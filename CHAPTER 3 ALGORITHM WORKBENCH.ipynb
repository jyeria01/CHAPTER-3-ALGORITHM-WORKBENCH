{
 "cells": [
  {
   "cell_type": "markdown",
   "id": "10b4476e",
   "metadata": {},
   "source": [
    "# QUESTION 4\n",
    "### The following code contains several nested if-else statements. Unfortunately, it was written without proper alignment and indentation. Rewrite the code and use the proper covention of alignment and indentation"
   ]
  },
  {
   "cell_type": "markdown",
   "id": "62abdb56",
   "metadata": {},
   "source": [
    "# Get code written improperly\n",
    "# Find what is wrong with code\n",
    "# Rewrite code\n",
    "# Display corrected code"
   ]
  },
  {
   "cell_type": "markdown",
   "id": "53671651",
   "metadata": {},
   "source": [
    "# IMPROPER CODE"
   ]
  },
  {
   "cell_type": "code",
   "execution_count": 1,
   "id": "b090b123",
   "metadata": {},
   "outputs": [
    {
     "name": "stdout",
     "output_type": "stream",
     "text": [
      "Enter your test score: 91\n"
     ]
    }
   ],
   "source": [
    "A_SCORE = 90 # inserting proper variables to check the improper code\n",
    "B_SCORE = 80\n",
    "C_SCORE = 70\n",
    "D_SCORE = 60\n",
    "score = int(input('Enter your test score: '))"
   ]
  },
  {
   "cell_type": "code",
   "execution_count": 2,
   "id": "e6ae7937",
   "metadata": {},
   "outputs": [
    {
     "ename": "IndentationError",
     "evalue": "expected an indented block after 'if' statement on line 1 (2509658609.py, line 2)",
     "output_type": "error",
     "traceback": [
      "\u001b[1;36m  Cell \u001b[1;32mIn[2], line 2\u001b[1;36m\u001b[0m\n\u001b[1;33m    print('Your grade is A.')\u001b[0m\n\u001b[1;37m    ^\u001b[0m\n\u001b[1;31mIndentationError\u001b[0m\u001b[1;31m:\u001b[0m expected an indented block after 'if' statement on line 1\n"
     ]
    }
   ],
   "source": [
    "if score >= A_score:\n",
    "print('Your grade is A.')\n",
    "else:\n",
    "if score >= B_score:\n",
    "print('Your grade is B.')\n",
    "if score >= C_score:\n",
    "print('Your grade is C.')\n",
    "else:\n",
    "if score >= D_score:\n",
    "print('Your grade is D.')\n",
    "else:\n",
    "print('You grade is F.')"
   ]
  },
  {
   "cell_type": "markdown",
   "id": "bbd87a85",
   "metadata": {},
   "source": [
    "# I have taken this from the exercise I have already did from the book \n",
    "## Program 3-6 \n",
    "## pages 140-142 5edition"
   ]
  },
  {
   "cell_type": "markdown",
   "id": "3549be12",
   "metadata": {},
   "source": [
    "# The following code should display the correct output"
   ]
  },
  {
   "cell_type": "code",
   "execution_count": 3,
   "id": "883fb4d4",
   "metadata": {},
   "outputs": [
    {
     "name": "stdout",
     "output_type": "stream",
     "text": [
      "Enter your test score: 55\n",
      "Your grade is F.\n"
     ]
    }
   ],
   "source": [
    "score = int(input('Enter your test score: '))\n",
    "if score >= A_SCORE:\n",
    "    print('Your grade is A.')\n",
    "else:\n",
    "    if score >= B_SCORE:\n",
    "        print('Your grade is B.')\n",
    "    else:\n",
    "          if score >= C_SCORE:\n",
    "              print('Your grade is C.')\n",
    "          else:\n",
    "              if score >= D_SCORE:\n",
    "                  print('Your grade is D.')\n",
    "              else:\n",
    "                  print('Your grade is F.')"
   ]
  },
  {
   "cell_type": "markdown",
   "id": "6a3afb94",
   "metadata": {},
   "source": [
    "# I will test again"
   ]
  },
  {
   "cell_type": "code",
   "execution_count": 4,
   "id": "f895a350",
   "metadata": {},
   "outputs": [
    {
     "name": "stdout",
     "output_type": "stream",
     "text": [
      "Enter your test score: 67\n",
      "Your grade is D.\n"
     ]
    }
   ],
   "source": [
    "score = int(input('Enter your test score: '))\n",
    "if score >= A_SCORE:\n",
    "    print('Your grade is A.')\n",
    "else:\n",
    "    if score >= B_SCORE:\n",
    "        print('Your grade is B.')\n",
    "    else:\n",
    "          if score >= C_SCORE:\n",
    "              print('Your grade is C.')\n",
    "          else:\n",
    "              if score >= D_SCORE:\n",
    "                  print('Your grade is D.')\n",
    "              else:\n",
    "                  print('Your grade is F.')"
   ]
  },
  {
   "cell_type": "markdown",
   "id": "d7277381",
   "metadata": {},
   "source": [
    "# The following should display a simplier code using the IF-ELIF-ELSE statement"
   ]
  },
  {
   "cell_type": "code",
   "execution_count": 5,
   "id": "41dbd94b",
   "metadata": {},
   "outputs": [
    {
     "name": "stdout",
     "output_type": "stream",
     "text": [
      "Enter your test score: 95\n",
      "Your grade is A.\n"
     ]
    }
   ],
   "source": [
    "score = int(input('Enter your test score: '))\n",
    "if score >= A_SCORE:\n",
    "    print('Your grade is A.')\n",
    "elif score >= B_SCORE:\n",
    "    print('Your grade is B.')\n",
    "elif score >= C_SCORE:\n",
    "    print('Your grade is C')\n",
    "elif score >= D_SCORE:\n",
    "    print('Your grade is d.')\n",
    "else:\n",
    "    print('Your grade is F.')"
   ]
  },
  {
   "cell_type": "code",
   "execution_count": null,
   "id": "cc9afae3",
   "metadata": {},
   "outputs": [],
   "source": []
  }
 ],
 "metadata": {
  "kernelspec": {
   "display_name": "Python 3 (ipykernel)",
   "language": "python",
   "name": "python3"
  },
  "language_info": {
   "codemirror_mode": {
    "name": "ipython",
    "version": 3
   },
   "file_extension": ".py",
   "mimetype": "text/x-python",
   "name": "python",
   "nbconvert_exporter": "python",
   "pygments_lexer": "ipython3",
   "version": "3.11.4"
  }
 },
 "nbformat": 4,
 "nbformat_minor": 5
}
